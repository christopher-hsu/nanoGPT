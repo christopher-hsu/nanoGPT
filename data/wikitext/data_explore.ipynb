{
 "cells": [
  {
   "cell_type": "code",
   "execution_count": null,
   "metadata": {},
   "outputs": [],
   "source": [
    "import re\n",
    "import os\n",
    "import numpy as np\n",
    "from datasets import load_dataset\n",
    "from torch.utils.data import DataLoader\n",
    "from transformers import AutoTokenizer"
   ]
  },
  {
   "cell_type": "code",
   "execution_count": null,
   "metadata": {},
   "outputs": [],
   "source": [
    "train = True\n",
    "split = \"train\" if train else \"test\"\n",
    "\n",
    "ds = load_dataset(\"Salesforce/wikitext\", \"wikitext-103-v1\", split=split)\n",
    "\n",
    "tokenizer = AutoTokenizer.from_pretrained('openai-community/gpt2')\n",
    "tokenizer.pad_token = tokenizer.eos_token"
   ]
  },
  {
   "cell_type": "code",
   "execution_count": null,
   "metadata": {},
   "outputs": [],
   "source": [
    "def tokenize(txt):\n",
    "    tokenized = tokenizer(\n",
    "        txt['text'], truncation=True, padding='max_length', \n",
    "        max_length=512, return_tensors='pt')\n",
    "    return tokenized\n",
    "\n",
    "def len_filter(ex):\n",
    "    ln = np.where(np.array(ex['input_ids']) == tokenizer.pad_token_id)[0]\n",
    "    ln = ln[0] if len(ln) > 0 else 1000\n",
    "    return ln >= 1"
   ]
  },
  {
   "cell_type": "code",
   "execution_count": null,
   "metadata": {},
   "outputs": [],
   "source": [
    "ds = ds.filter(lambda example: (len(example['text']) > 0) and \n",
    "                                (not re.match(r'( =)+.*?(= )+\\n', example['text'])))"
   ]
  },
  {
   "cell_type": "code",
   "execution_count": null,
   "metadata": {},
   "outputs": [],
   "source": [
    "ds = ds.map(tokenize, batched=True)\n",
    "ds = ds.filter(len_filter)\n",
    "ds.set_format(type='torch', columns=['input_ids'])\n",
    "os.environ[\"TOKENIZERS_PARALLELISM\"] = \"false\"  # To avoid hugginface error\n",
    "\n",
    "print(\"Number of rows in %s dataset: %d\" % (split, len(ds)))"
   ]
  },
  {
   "cell_type": "code",
   "execution_count": null,
   "metadata": {},
   "outputs": [],
   "source": [
    "\n",
    "loader = DataLoader(ds, batch_size=32, shuffle=train, pin_memory=True, num_workers=2)"
   ]
  }
 ],
 "metadata": {
  "language_info": {
   "name": "python"
  }
 },
 "nbformat": 4,
 "nbformat_minor": 2
}
